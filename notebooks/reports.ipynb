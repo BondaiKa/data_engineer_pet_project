{
  "nbformat": 4,
  "nbformat_minor": 0,
  "metadata": {
    "colab": {
      "provenance": [],
      "authorship_tag": "ABX9TyMBTFmRECqENPq8ojmT780M",
      "include_colab_link": true
    },
    "kernelspec": {
      "name": "python3",
      "display_name": "Python 3"
    },
    "language_info": {
      "name": "python"
    }
  },
  "cells": [
    {
      "cell_type": "markdown",
      "metadata": {
        "id": "view-in-github",
        "colab_type": "text"
      },
      "source": [
        "<a href=\"https://colab.research.google.com/github/BondaiKa/data_engineer_pet_project/blob/master/notebooks/reports.ipynb\" target=\"_parent\"><img src=\"https://colab.research.google.com/assets/colab-badge.svg\" alt=\"Open In Colab\"/></a>"
      ]
    },
    {
      "cell_type": "code",
      "execution_count": null,
      "metadata": {
        "id": "EmO83Qegm2LU"
      },
      "outputs": [],
      "source": [
        "import pandas as pd"
      ]
    },
    {
      "cell_type": "code",
      "source": [
        "file_path = \"/content/part-00000-33b9cc10-9bff-4b2e-bd58-99fbbffeb663-c000.csv\""
      ],
      "metadata": {
        "id": "OOhI8jbJnFsD"
      },
      "execution_count": null,
      "outputs": []
    },
    {
      "cell_type": "code",
      "source": [
        "def create_bike_weather_temperature_report(df: pd.DataFrame):\n",
        "    df.plot.bar(x='temp_group', y='numb_of_trip')"
      ],
      "metadata": {
        "id": "npIHZbhEnKsx"
      },
      "execution_count": null,
      "outputs": []
    },
    {
      "cell_type": "code",
      "source": [
        "df = pd.read_csv(file_path)\n",
        "df.temp_group=df.temp_group.map({0: \"< 10°C\", 1: \"Between 10°C and 20°C\", 2: \"> 20°C\"})\n",
        "create_bike_weather_temperature_report(df=df)\n"
      ],
      "metadata": {
        "colab": {
          "base_uri": "https://localhost:8080/",
          "height": 402
        },
        "id": "_RYcB74LnMPs",
        "outputId": "46b173ad-b6fa-4f57-c366-c5e1e9c2daa2"
      },
      "execution_count": null,
      "outputs": [
        {
          "output_type": "display_data",
          "data": {
            "text/plain": [
              "<Figure size 432x288 with 1 Axes>"
            ],
            "image/png": "[encoded data removed]"
          },
          "metadata": {
            "needs_background": "light"
          }
        }
      ]
    },
    {
      "cell_type": "code",
      "source": [],
      "metadata": {
        "id": "O63yYK3XoqcE"
      },
      "execution_count": null,
      "outputs": []
    }
  ]
}